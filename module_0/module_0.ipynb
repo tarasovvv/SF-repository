{
 "cells": [
  {
   "cell_type": "code",
   "execution_count": 31,
   "metadata": {},
   "outputs": [
    {
     "name": "stdout",
     "output_type": "stream",
     "text": [
      "Your algorithm guesses the average number of 5 attempts\n"
     ]
    },
    {
     "data": {
      "text/plain": [
       "5"
      ]
     },
     "execution_count": 31,
     "metadata": {},
     "output_type": "execute_result"
    }
   ],
   "source": [
    "#Process optimization of guessing the number for a random number from 1 to 100\n",
    "\n",
    "import numpy as np\n",
    "\n",
    "\n",
    "def game_core_v1(number):\n",
    "    '''Just guessing at random, not using the information more or less.\n",
    "        The function takes unknown number and returns the number of attempts'''\n",
    "    count = 0 # set the number of attempts as 0\n",
    "    while True: # loop start\n",
    "        count += 1 # attempts counter\n",
    "        predict_number = np.random.randint(1,101) # randomly set the number to check\n",
    "        if number==predict_number: # comparison of a randomly and checked number\n",
    "            return(count) # exit the loop if guessed right\n",
    "\n",
    "def game_core_v2(number):\n",
    "    '''First, we set any random number, and then we decrease or increase it\n",
    "        depending on whether it is more or less than the secret one.\n",
    "        The function takes unknown number and returns the number of attempts'''\n",
    "    count = 1 # set the number of attempts as 0, since there is already the first number to check\n",
    "    predict_number = np.random.randint(1,101) # randomly set the number to check\n",
    "    while number!=predict_number: # loop start\n",
    "        count+=1 # attempts counter\n",
    "        if number > predict_number: # checking for more or less\n",
    "            predict_number += 1 # increase the checked number by 1, if the secret is greater\n",
    "        elif number < predict_number: # checking for more or less\n",
    "            predict_number -= 1 # decrease the checked number by 1, if the secret is greater\n",
    "    return(count) # exit the loop if guessed right\n",
    "\n",
    "def game_core_v3(number):\n",
    "    '''We start searching for a number in the middle of the range, then continue\n",
    "        to specialize the search area in half with each step'''\n",
    "    count = 1 # set the number of attempts as 0, since there is already the first number to check\n",
    "    lower = 0 # set the lower limit of the search range\n",
    "    upper = 100 # set the lower limit of the search range\n",
    "    predict_number = upper - ((upper-lower) // 2) # set the base limit of the predict number as the midddle of the range\n",
    "    while number != predict_number and count < 100: # loop start\n",
    "        count += 1 # attempts counter\n",
    "        if number>predict_number: # checking for more or less\n",
    "            lower = predict_number #assign the lower border of the search area\n",
    "            predict_number = upper - ((upper-lower) // 2) # set the new limit of the predict number as the midddle of the range\n",
    "        elif number<predict_number: # checking for more or less\n",
    "            upper = predict_number #assign the upper border of the search area\n",
    "            predict_number = upper - ((upper-lower) // 2) # set the new limit of the predict number as the midddle of the range\n",
    "    return(count) # exit the loop if guessed right\n",
    "\n",
    "def score_game(game_core):\n",
    "    '''Run the game 1000 times to find out how quickly the game guesses the number'''\n",
    "    count_list = [] # create the list to store the number of attempts\n",
    "    np.random.seed(1)  # pin RANDOM SEED so your experiment is reproducible\n",
    "    random_array = np.random.randint(1,101, size=(1000)) # get a list of random numbers\n",
    "    for number in random_array: # checking every number in the list\n",
    "        #print('Загаданное число: {}, потребовало попыток:{}'.format(number,game_core(number)))  -- string allows you to display the results of guessing each of the numbers\n",
    "        count_list.append(game_core_v3(number)) # adding to the list the number of attempts to correct guess\n",
    "    score = int(np.mean(count_list)) # count the average number of attempts\n",
    "    print(f\"Your algorithm guesses the average number of {score} attempts\") # print the result\n",
    "    return(score) # exit the loop if guessed right\n",
    "\n",
    "score_game(game_core_v3) # start the game"
   ]
  }
 ],
 "metadata": {
  "kernelspec": {
   "display_name": "Python 3",
   "language": "python",
   "name": "python3"
  },
  "language_info": {
   "codemirror_mode": {
    "name": "ipython",
    "version": 3
   },
   "file_extension": ".py",
   "mimetype": "text/x-python",
   "name": "python",
   "nbconvert_exporter": "python",
   "pygments_lexer": "ipython3",
   "version": "3.8.5"
  }
 },
 "nbformat": 4,
 "nbformat_minor": 4
}
